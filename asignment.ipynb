{
 "cells": [
  {
   "cell_type": "code",
   "execution_count": 7,
   "id": "075b4e6e-cfdf-457c-b3be-bd7fc4efb2f6",
   "metadata": {},
   "outputs": [],
   "source": [
    "#q1\n",
    "#we can coment in python by simply typing #as you can see after the # sign the system is not taking that part as a code\n"
   ]
  },
  {
   "cell_type": "markdown",
   "id": "0892360e-f226-487e-b541-07a4fd210a05",
   "metadata": {},
   "source": [
    "#there are 2 types of commets \n",
    "#single line comments whgich can be done by simply putting # sign before starting any statement\n",
    "\"\"\"and multi line comments \n",
    "as we can see we can write multi line comment \n",
    "by simply starting the line by \"\"\"\n",
    "\n"
   ]
  },
  {
   "cell_type": "markdown",
   "id": "c3f60dbe-b22d-4274-803a-6fbdc5d87aad",
   "metadata": {},
   "source": [
    "q2\n",
    "python variables is used to store data in memory such as num, str, float,list,tuple,dictionary etc\n",
    "a variable allows you to show an aboject by its variable name not according to its value \n",
    "ex: are as follows"
   ]
  },
  {
   "cell_type": "code",
   "execution_count": 8,
   "id": "4a59ac59-ebda-4412-b11d-42bd3c86f713",
   "metadata": {},
   "outputs": [],
   "source": [
    "a=3"
   ]
  },
  {
   "cell_type": "code",
   "execution_count": 9,
   "id": "496dbb67-a9e2-4340-8872-54507b53956b",
   "metadata": {},
   "outputs": [
    {
     "data": {
      "text/plain": [
       "3"
      ]
     },
     "execution_count": 9,
     "metadata": {},
     "output_type": "execute_result"
    }
   ],
   "source": [
    "a"
   ]
  },
  {
   "cell_type": "markdown",
   "id": "5b78a767-6f9f-46ea-a00d-24da77cf2568",
   "metadata": {},
   "source": [
    "when assigning 3 as a value to a we use \"=\" to assign a value"
   ]
  },
  {
   "cell_type": "markdown",
   "id": "571e24f6-1530-4bb3-af31-8cb1f11e3fce",
   "metadata": {},
   "source": [
    "we can also assign diffrent types of anuimal\n"
   ]
  },
  {
   "cell_type": "code",
   "execution_count": 10,
   "id": "d4a971a2-1d43-4221-8b35-211cc9136222",
   "metadata": {},
   "outputs": [],
   "source": [
    "age=45\n",
    "name=\"rohan\"\n",
    "inch=6.7\n"
   ]
  },
  {
   "cell_type": "code",
   "execution_count": 11,
   "id": "e6d5b0f8-82b4-40b1-ba4f-08a58ac11077",
   "metadata": {},
   "outputs": [
    {
     "data": {
      "text/plain": [
       "45"
      ]
     },
     "execution_count": 11,
     "metadata": {},
     "output_type": "execute_result"
    }
   ],
   "source": [
    "age"
   ]
  },
  {
   "cell_type": "code",
   "execution_count": 13,
   "id": "ba85d311-cd47-4f3a-bb3a-95bdb9e090fb",
   "metadata": {},
   "outputs": [
    {
     "data": {
      "text/plain": [
       "'rohan'"
      ]
     },
     "execution_count": 13,
     "metadata": {},
     "output_type": "execute_result"
    }
   ],
   "source": [
    "name"
   ]
  },
  {
   "cell_type": "code",
   "execution_count": 14,
   "id": "a356f866-a7a6-4d18-b63f-b3e1a564baee",
   "metadata": {},
   "outputs": [
    {
     "data": {
      "text/plain": [
       "6.7"
      ]
     },
     "execution_count": 14,
     "metadata": {},
     "output_type": "execute_result"
    }
   ],
   "source": [
    "inch"
   ]
  },
  {
   "cell_type": "code",
   "execution_count": 15,
   "id": "6885b1cc-b75b-4ef0-9ca1-0ec268d2b855",
   "metadata": {},
   "outputs": [],
   "source": [
    "#q3\n",
    "a=[1,2,3,4]"
   ]
  },
  {
   "cell_type": "code",
   "execution_count": 16,
   "id": "3ea35cec-c1a8-4f93-be78-75a220fb656b",
   "metadata": {},
   "outputs": [
    {
     "data": {
      "text/plain": [
       "[1, 2, 3, 4]"
      ]
     },
     "execution_count": 16,
     "metadata": {},
     "output_type": "execute_result"
    }
   ],
   "source": [
    "#this is now a int data type and it is coverd with a list\n",
    "a"
   ]
  },
  {
   "cell_type": "code",
   "execution_count": 17,
   "id": "f28f6868-94fd-4731-bfb4-2f81b2939bd6",
   "metadata": {},
   "outputs": [],
   "source": [
    "#in order to change its data type to str we need to add \" \" in each int "
   ]
  },
  {
   "cell_type": "code",
   "execution_count": 18,
   "id": "d4e0b0df-360a-46f9-9e8c-8d5fa5c6c6c5",
   "metadata": {},
   "outputs": [],
   "source": [
    "a=[\"1\",\"2\",\"3\",\"4\"]"
   ]
  },
  {
   "cell_type": "code",
   "execution_count": 20,
   "id": "917030da-aa9b-4a97-9d95-b5f1b8595487",
   "metadata": {},
   "outputs": [
    {
     "data": {
      "text/plain": [
       "['1', '2', '3', '4']"
      ]
     },
     "execution_count": 20,
     "metadata": {},
     "output_type": "execute_result"
    }
   ],
   "source": [
    "a"
   ]
  },
  {
   "cell_type": "code",
   "execution_count": 27,
   "id": "b7602617-1011-4762-b52e-46b98b127de4",
   "metadata": {},
   "outputs": [
    {
     "data": {
      "text/plain": [
       "'1'"
      ]
     },
     "execution_count": 27,
     "metadata": {},
     "output_type": "execute_result"
    }
   ],
   "source": [
    "a[0]"
   ]
  },
  {
   "cell_type": "markdown",
   "id": "c25ec2cf-954e-4a55-8826-9821bf00e06d",
   "metadata": {},
   "source": [
    "hence the type of the int is changed to str \n"
   ]
  },
  {
   "cell_type": "code",
   "execution_count": 1,
   "id": "c77daba9-c19e-4205-85a1-a313fdd4a1dc",
   "metadata": {},
   "outputs": [],
   "source": [
    "#q4\n",
    "#you can simply type ny script starting with\"#\" \n"
   ]
  },
  {
   "cell_type": "code",
   "execution_count": 5,
   "id": "e8f80879-fbb9-425d-8cff-bf852c624d5c",
   "metadata": {},
   "outputs": [],
   "source": [
    "my_list=[1,2,3,4,5]\n",
    "#q5"
   ]
  },
  {
   "cell_type": "code",
   "execution_count": 3,
   "id": "e4d15d96-a3ce-43c2-95f2-cf387d9b86e0",
   "metadata": {},
   "outputs": [],
   "source": [
    "sub_list=my_list[1:3]"
   ]
  },
  {
   "cell_type": "code",
   "execution_count": 4,
   "id": "5e94acef-45e3-4c79-a168-64b35dfeba47",
   "metadata": {},
   "outputs": [
    {
     "data": {
      "text/plain": [
       "[2, 3]"
      ]
     },
     "execution_count": 4,
     "metadata": {},
     "output_type": "execute_result"
    }
   ],
   "source": [
    "sub_list"
   ]
  },
  {
   "cell_type": "code",
   "execution_count": 12,
   "id": "4a6637d9-c3fe-43c7-b5da-7be7abbdaf6b",
   "metadata": {},
   "outputs": [
    {
     "data": {
      "text/plain": [
       "\" in mathmatics the complex numbers are the \\nnumbers which can e written as '5+7j' n python it is treated as built in functions and \\noperators to work with complex numbers\""
      ]
     },
     "execution_count": 12,
     "metadata": {},
     "output_type": "execute_result"
    }
   ],
   "source": [
    "\"\"\"Q6 in mathmatics the complex numbers are the \n",
    "numbers which can e written as '5+7j' n python it is treated as built in functions and \n",
    "operators to work with complex numbers\"\"\"\n"
   ]
  },
  {
   "cell_type": "code",
   "execution_count": 13,
   "id": "1f4fcdd6-9ca9-4fb4-af79-930e438c2f09",
   "metadata": {},
   "outputs": [],
   "source": [
    "#q7\n",
    "age=25"
   ]
  },
  {
   "cell_type": "code",
   "execution_count": 14,
   "id": "b19e97c0-ebb4-43c2-89d5-a5e5e30475cb",
   "metadata": {},
   "outputs": [
    {
     "data": {
      "text/plain": [
       "25"
      ]
     },
     "execution_count": 14,
     "metadata": {},
     "output_type": "execute_result"
    }
   ],
   "source": [
    "age"
   ]
  },
  {
   "cell_type": "code",
   "execution_count": 15,
   "id": "12f4377f-6eb8-4f26-8304-b59c29c3f81d",
   "metadata": {},
   "outputs": [
    {
     "data": {
      "text/plain": [
       "int"
      ]
     },
     "execution_count": 15,
     "metadata": {},
     "output_type": "execute_result"
    }
   ],
   "source": [
    "type(age)"
   ]
  },
  {
   "cell_type": "code",
   "execution_count": 17,
   "id": "e80aafee-843a-498b-860b-9b9c8fbd6d67",
   "metadata": {},
   "outputs": [],
   "source": [
    "#Q8\n",
    "price=9.999"
   ]
  },
  {
   "cell_type": "code",
   "execution_count": 18,
   "id": "daa48a70-cabc-4d88-936b-439eb5fbf6ed",
   "metadata": {},
   "outputs": [
    {
     "data": {
      "text/plain": [
       "9.999"
      ]
     },
     "execution_count": 18,
     "metadata": {},
     "output_type": "execute_result"
    }
   ],
   "source": [
    "price"
   ]
  },
  {
   "cell_type": "code",
   "execution_count": 19,
   "id": "35e92e8a-5621-4d96-b1b6-718d34fc06aa",
   "metadata": {},
   "outputs": [
    {
     "data": {
      "text/plain": [
       "float"
      ]
     },
     "execution_count": 19,
     "metadata": {},
     "output_type": "execute_result"
    }
   ],
   "source": [
    "type(price)"
   ]
  },
  {
   "cell_type": "code",
   "execution_count": 20,
   "id": "90e87dfe-d69f-4899-b6a9-880dce8b5931",
   "metadata": {},
   "outputs": [],
   "source": [
    "#Q9\n",
    "name=\"rohan rawat\""
   ]
  },
  {
   "cell_type": "code",
   "execution_count": 21,
   "id": "ecbb87db-2a51-4d92-b708-6c3e80b30672",
   "metadata": {},
   "outputs": [
    {
     "data": {
      "text/plain": [
       "'rohan rawat'"
      ]
     },
     "execution_count": 21,
     "metadata": {},
     "output_type": "execute_result"
    }
   ],
   "source": [
    "name"
   ]
  },
  {
   "cell_type": "code",
   "execution_count": 22,
   "id": "a12b46eb-4a5d-48f8-9725-cb3c0efe6a58",
   "metadata": {},
   "outputs": [
    {
     "data": {
      "text/plain": [
       "str"
      ]
     },
     "execution_count": 22,
     "metadata": {},
     "output_type": "execute_result"
    }
   ],
   "source": [
    "type(name)"
   ]
  },
  {
   "cell_type": "code",
   "execution_count": 31,
   "id": "0bab98d9-247c-446f-8be0-6b3cfbc7372a",
   "metadata": {},
   "outputs": [],
   "source": [
    "#Q10\n",
    "original_str=\"hello, world\"\n",
    "start_index= original_str.index(\",\")+2\n"
   ]
  },
  {
   "cell_type": "code",
   "execution_count": 32,
   "id": "df172e96-4d0b-4bb1-8f02-81fbcee4f989",
   "metadata": {},
   "outputs": [
    {
     "data": {
      "text/plain": [
       "'world'"
      ]
     },
     "execution_count": 32,
     "metadata": {},
     "output_type": "execute_result"
    }
   ],
   "source": [
    "original_str[start_index:]"
   ]
  },
  {
   "cell_type": "code",
   "execution_count": 33,
   "id": "f31c4bbd-927e-4b04-a1c4-ea4b7cd5f6fc",
   "metadata": {},
   "outputs": [],
   "source": [
    "#Q11\n",
    "is_student=True"
   ]
  },
  {
   "cell_type": "code",
   "execution_count": 34,
   "id": "41e6b6a9-798a-481f-a0c7-9ed208cd3033",
   "metadata": {},
   "outputs": [
    {
     "data": {
      "text/plain": [
       "True"
      ]
     },
     "execution_count": 34,
     "metadata": {},
     "output_type": "execute_result"
    }
   ],
   "source": [
    "is_student"
   ]
  },
  {
   "cell_type": "code",
   "execution_count": 35,
   "id": "5847b785-4373-4ec8-b9c5-b7733d2351e1",
   "metadata": {},
   "outputs": [
    {
     "data": {
      "text/plain": [
       "bool"
      ]
     },
     "execution_count": 35,
     "metadata": {},
     "output_type": "execute_result"
    }
   ],
   "source": [
    "type(is_student)"
   ]
  },
  {
   "cell_type": "code",
   "execution_count": null,
   "id": "888bf65d-6f20-414a-8928-0584f90de572",
   "metadata": {},
   "outputs": [],
   "source": []
  }
 ],
 "metadata": {
  "kernelspec": {
   "display_name": "Python 3 (ipykernel)",
   "language": "python",
   "name": "python3"
  },
  "language_info": {
   "codemirror_mode": {
    "name": "ipython",
    "version": 3
   },
   "file_extension": ".py",
   "mimetype": "text/x-python",
   "name": "python",
   "nbconvert_exporter": "python",
   "pygments_lexer": "ipython3",
   "version": "3.10.8"
  }
 },
 "nbformat": 4,
 "nbformat_minor": 5
}
